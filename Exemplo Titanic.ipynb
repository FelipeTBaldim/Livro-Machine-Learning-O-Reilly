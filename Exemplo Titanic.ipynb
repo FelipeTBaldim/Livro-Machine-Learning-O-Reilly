{
 "cells": [
  {
   "cell_type": "code",
   "execution_count": 1,
   "id": "04df92bc",
   "metadata": {
    "scrolled": true
   },
   "outputs": [
    {
     "name": "stdout",
     "output_type": "stream",
     "text": [
      "Oi\n"
     ]
    }
   ],
   "source": [
    "import autosklearn, catboost, category_encoders, dtreeviz, eli5, fancyimpute, fastai, featuretools, glmnet_py, \n",
    "graphviz, hdbscan, imblearn, janitor, lime, matplotlib, missigno, mlxtend, numpy, pandas, pdpbox, phate, pydotplus,\n",
    "rfpimp, sciktplot, scipy, seaborn, shap, sklearn, statsmodels, tpot, treeinterpreter, umap, xgbfir, xgboost, yellowbrick\n",
    "\n",
    "#instalar usando pip ou conda\n",
    "#Fazer tudo no ambiente virtual (env/scripts/active.bat)\n",
    "#Em caso de duvudas revisar 14-18\n"
   ]
  },
  {
   "cell_type": "code",
   "execution_count": null,
   "id": "7c720848",
   "metadata": {},
   "outputs": [],
   "source": [
    "#Imports\n",
    "import matplotlib.pyplot as plt\n",
    "import pandas as pd\n",
    "\n",
    "from sklearn import{\n",
    "    ensemble,\n",
    "    preprocessing,\n",
    "    tree,\n",
    "}\n",
    "from sklearn.metrics import{\n",
    "    auc,\n",
    "    confusion_matrix,\n",
    "    roc_auc_score,\n",
    "    roc_curve,\n",
    "}\n",
    "from sklearn.model_selection import{\n",
    "    train_test_split,\n",
    "    StratifiedKFold,\n",
    "}\n",
    "from yellowbrick.classifier import{\n",
    "    ConfusionMatrix,\n",
    "    ROCAUC,\n",
    "}\n",
    "from yellowbrick.model_selection import{\n",
    "    LearningCurve,\n",
    "}"
   ]
  },
  {
   "cell_type": "code",
   "execution_count": null,
   "id": "62064b80",
   "metadata": {},
   "outputs": [],
   "source": [
    "#Lendo o dataframe com pandas\n",
    "url = (\n",
    "    \"http://biostat.mc.vanderbilt.edu/\"\n",
    "    \"wiki/pub/Main/DataSets/titanic3.xls\"\n",
    ")\n",
    "df = pd.read_excel(url)\n",
    "orig_df = df"
   ]
  },
  {
   "cell_type": "code",
   "execution_count": null,
   "id": "3bf9d10d",
   "metadata": {},
   "outputs": [],
   "source": [
    "#Gerar relatórios sobre o dataframe\n",
    "import pandas_profiling\n",
    "pandas_profilling.ProfileReport(df)"
   ]
  },
  {
   "cell_type": "code",
   "execution_count": null,
   "id": "ab8ae95d",
   "metadata": {},
   "outputs": [],
   "source": [
    "#Número de linhas e colunas do dataframe\n",
    "df.shape"
   ]
  },
  {
   "cell_type": "code",
   "execution_count": null,
   "id": "4186a119",
   "metadata": {},
   "outputs": [],
   "source": [
    "#Exibe estatísticas das 2 primeiras colunas\n",
    "df.describe().iloc[:, :2]"
   ]
  },
  {
   "cell_type": "code",
   "execution_count": null,
   "id": "1664d5b3",
   "metadata": {},
   "outputs": [],
   "source": [
    "#Contar o número de valores ausentes em cada coluna\n",
    "df.isnull().sum()"
   ]
  },
  {
   "cell_type": "code",
   "execution_count": null,
   "id": "388aefe6",
   "metadata": {},
   "outputs": [],
   "source": [
    "#Inspecionar linhas com dados ausentes\n",
    "mask = df.isnull().any(axis=1)\n",
    "\n",
    "mask.head() #linhas\n",
    "\n",
    "df[mask].body.head()"
   ]
  }
 ],
 "metadata": {
  "kernelspec": {
   "display_name": "Python 3 (ipykernel)",
   "language": "python",
   "name": "python3"
  },
  "language_info": {
   "codemirror_mode": {
    "name": "ipython",
    "version": 3
   },
   "file_extension": ".py",
   "mimetype": "text/x-python",
   "name": "python",
   "nbconvert_exporter": "python",
   "pygments_lexer": "ipython3",
   "version": "3.10.12"
  }
 },
 "nbformat": 4,
 "nbformat_minor": 5
}
